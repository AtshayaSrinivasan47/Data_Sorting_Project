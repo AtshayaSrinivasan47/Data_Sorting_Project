{
  "nbformat": 4,
  "nbformat_minor": 0,
  "metadata": {
    "colab": {
      "provenance": []
    },
    "kernelspec": {
      "name": "python3",
      "display_name": "Python 3"
    },
    "language_info": {
      "name": "python"
    }
  },
  "cells": [
    {
      "cell_type": "code",
      "execution_count": null,
      "metadata": {
        "id": "k3d8EPFEAFOU"
      },
      "outputs": [],
      "source": [
        "import time\n",
        "import pandas as pd"
      ]
    },
    {
      "cell_type": "code",
      "source": [
        "# load dataset\n",
        "\n",
        "cleaned_data=pd.read_excel('DataSet_Cleaned.xlsx')"
      ],
      "metadata": {
        "id": "kBSylIIlAH3F"
      },
      "execution_count": null,
      "outputs": []
    },
    {
      "cell_type": "code",
      "source": [
        "# function to measure sorting time\n",
        "\n",
        "def sort_time_measurement(df,column):\n",
        "  start_time=time.time()\n",
        "  sorted_df=df.sort_values(by=[column])\n",
        "  end_time=time.time()\n",
        "  return end_time-start_time\n",
        "\n",
        "def main():\n",
        "  # column to sort by\n",
        "  column_to_sort=['price','number_of_reviews','reviews_per_month']\n",
        "\n",
        "  for column in column_to_sort:\n",
        "    sort_time=sort_time_measurement(cleaned_data,column)\n",
        "    print(f\"sorting by {column} took {sort_time:.6f} seconds\")\n",
        "\n",
        "if __name__=='__main__':\n",
        "  main()"
      ],
      "metadata": {
        "colab": {
          "base_uri": "https://localhost:8080/"
        },
        "id": "syM2dji8AGG2",
        "outputId": "156ed34c-8884-46c7-9000-1f7082d92b30"
      },
      "execution_count": null,
      "outputs": [
        {
          "output_type": "stream",
          "name": "stdout",
          "text": [
            "sorting by price took 0.025755 seconds\n",
            "sorting by number_of_reviews took 0.011585 seconds\n",
            "sorting by reviews_per_month took 0.007492 seconds\n"
          ]
        }
      ]
    }
  ]
}